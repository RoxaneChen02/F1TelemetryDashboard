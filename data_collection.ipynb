{
  "cells": [
    {
      "cell_type": "markdown",
      "metadata": {},
      "source": [
        "# Data Collection in CSV format\n"
      ]
    },
    {
      "cell_type": "code",
      "execution_count": 2,
      "metadata": {},
      "outputs": [
        {
          "name": "stdout",
          "output_type": "stream",
          "text": [
            "Requirement already satisfied: fastf1 in c:\\users\\chenr\\appdata\\local\\programs\\python\\python310\\lib\\site-packages (3.1.6)Note: you may need to restart the kernel to use updated packages.\n",
            "\n",
            "Requirement already satisfied: requests-cache>=0.8.0 in c:\\users\\chenr\\appdata\\local\\programs\\python\\python310\\lib\\site-packages (from fastf1) (1.1.1)\n",
            "Requirement already satisfied: pandas<2.1.0,>=1.2.4 in c:\\users\\chenr\\appdata\\local\\programs\\python\\python310\\lib\\site-packages (from fastf1) (1.4.3)\n",
            "Requirement already satisfied: numpy<2.0.0,>=1.20.3 in c:\\users\\chenr\\appdata\\local\\programs\\python\\python310\\lib\\site-packages (from fastf1) (1.22.3)\n",
            "Requirement already satisfied: scipy<2.0.0,>=1.6.3 in c:\\users\\chenr\\appdata\\local\\programs\\python\\python310\\lib\\site-packages (from fastf1) (1.8.0)\n",
            "Requirement already satisfied: thefuzz in c:\\users\\chenr\\appdata\\local\\programs\\python\\python310\\lib\\site-packages (from fastf1) (0.20.0)\n",
            "Requirement already satisfied: matplotlib<4.0.0,>=3.4.2 in c:\\users\\chenr\\appdata\\local\\programs\\python\\python310\\lib\\site-packages (from fastf1) (3.5.1)\n",
            "Requirement already satisfied: python-dateutil in c:\\users\\chenr\\appdata\\local\\programs\\python\\python310\\lib\\site-packages (from fastf1) (2.8.2)\n",
            "Requirement already satisfied: timple>=0.1.6 in c:\\users\\chenr\\appdata\\local\\programs\\python\\python310\\lib\\site-packages (from fastf1) (0.1.7)\n",
            "Requirement already satisfied: requests>=2.28.0 in c:\\users\\chenr\\appdata\\local\\programs\\python\\python310\\lib\\site-packages (from fastf1) (2.31.0)\n",
            "Requirement already satisfied: websockets>=8.1 in c:\\users\\chenr\\appdata\\local\\programs\\python\\python310\\lib\\site-packages (from fastf1) (12.0)\n",
            "Requirement already satisfied: cycler>=0.10 in c:\\users\\chenr\\appdata\\local\\programs\\python\\python310\\lib\\site-packages (from matplotlib<4.0.0,>=3.4.2->fastf1) (0.11.0)\n",
            "Requirement already satisfied: fonttools>=4.22.0 in c:\\users\\chenr\\appdata\\local\\programs\\python\\python310\\lib\\site-packages (from matplotlib<4.0.0,>=3.4.2->fastf1) (4.32.0)\n",
            "Requirement already satisfied: kiwisolver>=1.0.1 in c:\\users\\chenr\\appdata\\local\\programs\\python\\python310\\lib\\site-packages (from matplotlib<4.0.0,>=3.4.2->fastf1) (1.4.2)\n",
            "Requirement already satisfied: packaging>=20.0 in c:\\users\\chenr\\appdata\\local\\programs\\python\\python310\\lib\\site-packages (from matplotlib<4.0.0,>=3.4.2->fastf1) (21.3)\n",
            "Requirement already satisfied: pillow>=6.2.0 in c:\\users\\chenr\\appdata\\local\\programs\\python\\python310\\lib\\site-packages (from matplotlib<4.0.0,>=3.4.2->fastf1) (9.1.0)\n",
            "Requirement already satisfied: pyparsing>=2.2.1 in c:\\users\\chenr\\appdata\\local\\programs\\python\\python310\\lib\\site-packages (from matplotlib<4.0.0,>=3.4.2->fastf1) (3.0.8)\n",
            "Requirement already satisfied: pytz>=2020.1 in c:\\users\\chenr\\appdata\\local\\programs\\python\\python310\\lib\\site-packages (from pandas<2.1.0,>=1.2.4->fastf1) (2022.1)\n",
            "Requirement already satisfied: six>=1.5 in c:\\users\\chenr\\appdata\\local\\programs\\python\\python310\\lib\\site-packages (from python-dateutil->fastf1) (1.16.0)\n",
            "Requirement already satisfied: charset-normalizer<4,>=2 in c:\\users\\chenr\\appdata\\local\\programs\\python\\python310\\lib\\site-packages (from requests>=2.28.0->fastf1) (3.3.2)\n",
            "Requirement already satisfied: idna<4,>=2.5 in c:\\users\\chenr\\appdata\\local\\programs\\python\\python310\\lib\\site-packages (from requests>=2.28.0->fastf1) (3.6)\n",
            "Requirement already satisfied: urllib3<3,>=1.21.1 in c:\\users\\chenr\\appdata\\local\\programs\\python\\python310\\lib\\site-packages (from requests>=2.28.0->fastf1) (2.1.0)\n",
            "Requirement already satisfied: certifi>=2017.4.17 in c:\\users\\chenr\\appdata\\local\\programs\\python\\python310\\lib\\site-packages (from requests>=2.28.0->fastf1) (2023.11.17)\n",
            "Requirement already satisfied: attrs>=21.2 in c:\\users\\chenr\\appdata\\local\\programs\\python\\python310\\lib\\site-packages (from requests-cache>=0.8.0->fastf1) (23.1.0)\n",
            "Requirement already satisfied: cattrs>=22.2 in c:\\users\\chenr\\appdata\\local\\programs\\python\\python310\\lib\\site-packages (from requests-cache>=0.8.0->fastf1) (23.2.2)\n",
            "Requirement already satisfied: platformdirs>=2.5 in c:\\users\\chenr\\appdata\\local\\programs\\python\\python310\\lib\\site-packages (from requests-cache>=0.8.0->fastf1) (4.0.0)\n",
            "Requirement already satisfied: url-normalize>=1.4 in c:\\users\\chenr\\appdata\\local\\programs\\python\\python310\\lib\\site-packages (from requests-cache>=0.8.0->fastf1) (1.4.3)\n",
            "Requirement already satisfied: rapidfuzz<4.0.0,>=3.0.0 in c:\\users\\chenr\\appdata\\local\\programs\\python\\python310\\lib\\site-packages (from thefuzz->fastf1) (3.5.2)\n",
            "Requirement already satisfied: exceptiongroup>=1.1.1 in c:\\users\\chenr\\appdata\\local\\programs\\python\\python310\\lib\\site-packages (from cattrs>=22.2->requests-cache>=0.8.0->fastf1) (1.2.0)\n",
            "Requirement already satisfied: typing-extensions!=4.6.3,>=4.1.0 in c:\\users\\chenr\\appdata\\local\\programs\\python\\python310\\lib\\site-packages (from cattrs>=22.2->requests-cache>=0.8.0->fastf1) (4.8.0)\n"
          ]
        },
        {
          "name": "stderr",
          "output_type": "stream",
          "text": [
            "WARNING: There was an error checking the latest version of pip.\n"
          ]
        }
      ],
      "source": [
        "pip install fastf1"
      ]
    },
    {
      "cell_type": "code",
      "execution_count": 42,
      "metadata": {
        "collapsed": false
      },
      "outputs": [],
      "source": [
        "import fastf1 as ff1\n",
        "import numpy as np\n",
        "import matplotlib as mpl\n",
        "import pandas as pd\n",
        "from matplotlib import pyplot as plt\n",
        "from matplotlib.collections import LineCollection"
      ]
    },
    {
      "cell_type": "markdown",
      "metadata": {},
      "source": [
        "First, we define some variables that allow us to conveniently control what\n",
        "we want to plot.\n",
        "\n"
      ]
    },
    {
      "cell_type": "code",
      "execution_count": 55,
      "metadata": {
        "collapsed": false
      },
      "outputs": [],
      "source": [
        "year = 2022\n",
        "ses = 'R' #race"
      ]
    },
    {
      "cell_type": "code",
      "execution_count": 56,
      "metadata": {},
      "outputs": [],
      "source": [
        "from fastf1.ergast import Ergast\n",
        "ergast = Ergast()\n",
        "races = ergast.get_race_schedule(year) \n",
        "\n",
        "#get race schedule of the season\n",
        "pd.DataFrame(races).to_csv('data/{}/race_schedule.csv'.format(year), index=False)"
      ]
    },
    {
      "cell_type": "code",
      "execution_count": 57,
      "metadata": {},
      "outputs": [
        {
          "name": "stderr",
          "output_type": "stream",
          "text": [
            "core           INFO \tLoading data for Saudi Arabian Grand Prix - Race [v3.1.6]\n",
            "req            INFO \tUsing cached data for session_info\n",
            "req            INFO \tUsing cached data for driver_info\n",
            "req            INFO \tUsing cached data for session_status_data\n",
            "req            INFO \tUsing cached data for lap_count\n",
            "req            INFO \tUsing cached data for track_status_data\n",
            "req            INFO \tUsing cached data for _extended_timing_data\n",
            "req            INFO \tUsing cached data for timing_app_data\n",
            "core           INFO \tProcessing timing data...\n",
            "core        WARNING \tNo lap data for driver 22\n",
            "core        WARNING \tNo lap data for driver 47\n",
            "core        WARNING \tFailed to perform lap accuracy check - all laps marked as inaccurate (driver 22)\n",
            "core        WARNING \tFailed to perform lap accuracy check - all laps marked as inaccurate (driver 47)\n",
            "req            INFO \tUsing cached data for car_data\n",
            "req            INFO \tUsing cached data for position_data\n",
            "req            INFO \tUsing cached data for weather_data\n",
            "req            INFO \tUsing cached data for race_control_messages\n",
            "core           INFO \tFinished loading data for 20 drivers: ['1', '16', '55', '11', '63', '31', '4', '10', '20', '44', '24', '27', '18', '23', '77', '14', '3', '6', '22', '47']\n"
          ]
        }
      ],
      "source": [
        "for wknd in range (2,3):    \n",
        "    #load session\n",
        "    session = ff1.get_session(year, wknd, ses)\n",
        "    weekend = session.event\n",
        "    session.load()\n",
        "\n",
        "    #get session result\n",
        "    pd.DataFrame(session.results).to_csv('data/{}/{}/session_result.csv'.format(year,wknd), index=False)\n",
        "\n",
        "    #get the 20 drivers that participated in the race \n",
        "    drivers_list = set(session.laps[\"Driver\"])\n",
        "\n",
        "    #load telemetry data for all the driver\n",
        "    for driver in drivers_list:\n",
        "        df = session.laps.pick_driver(driver).telemetry.resample_channels(rule='0.1S') #with sampling rate 10Htz\n",
        "        file_name = \"data/{}/{}/telemetry/\".format(year,wknd)+driver+\"_telemetry.csv\"\n",
        "        df.to_csv(file_name, index=False)\n",
        "        \n",
        "    lap = session.laps.pick_fastest()\n",
        "    df = lap.telemetry\n",
        "    df.to_csv(\"data/{}/{}/circuit_trace.csv\".format(year,wknd), index=False)\n",
        "\n",
        "    #session info \n",
        "    import pandas as pd\n",
        "    pd.DataFrame(session.laps).to_csv('data/{}/{}/session_laps_info.csv'.format(year,wknd), index=False)"
      ]
    }
  ],
  "metadata": {
    "kernelspec": {
      "display_name": "Python 3",
      "language": "python",
      "name": "python3"
    },
    "language_info": {
      "codemirror_mode": {
        "name": "ipython",
        "version": 3
      },
      "file_extension": ".py",
      "mimetype": "text/x-python",
      "name": "python",
      "nbconvert_exporter": "python",
      "pygments_lexer": "ipython3",
      "version": "3.10.4"
    }
  },
  "nbformat": 4,
  "nbformat_minor": 0
}
